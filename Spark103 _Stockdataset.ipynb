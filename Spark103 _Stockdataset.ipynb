{
 "cells": [
  {
   "cell_type": "markdown",
   "metadata": {},
   "source": [
    "# Exercise 2: use stocks.csv file for the this exercise\n",
    "1. Load the stocks.csv file in a new Rdd\n",
    "2. Find stocks records in 2016\n",
    "3. Find stocks top 10 records based on the trading volume in 2016\n",
    "4. Find average volume per stock traded in 2016\n",
    "5. Find top 10 stocks based on highest trading volume in 2016"
   ]
  },
  {
   "cell_type": "code",
   "execution_count": 2,
   "metadata": {
    "collapsed": true
   },
   "outputs": [],
   "source": [
    "from pyspark import SparkContext,SparkConf\n",
    "sc = SparkContext.getOrCreate()"
   ]
  },
  {
   "cell_type": "markdown",
   "metadata": {},
   "source": [
    "Load the stocks.csv file in a new Rdd"
   ]
  },
  {
   "cell_type": "code",
   "execution_count": 6,
   "metadata": {
    "collapsed": true
   },
   "outputs": [],
   "source": [
    "stocks = sc.textFile(\"stocks.csv\")"
   ]
  },
  {
   "cell_type": "code",
   "execution_count": 7,
   "metadata": {},
   "outputs": [
    {
     "data": {
      "text/plain": [
       "326456"
      ]
     },
     "execution_count": 7,
     "metadata": {},
     "output_type": "execute_result"
    }
   ],
   "source": [
    "stocks.count()"
   ]
  },
  {
   "cell_type": "code",
   "execution_count": 8,
   "metadata": {},
   "outputs": [
    {
     "data": {
      "text/plain": [
       "'date,open,high,low,close,volume,adjclose,symbol'"
      ]
     },
     "execution_count": 8,
     "metadata": {},
     "output_type": "execute_result"
    }
   ],
   "source": [
    "stocks.first()"
   ]
  },
  {
   "cell_type": "code",
   "execution_count": 9,
   "metadata": {},
   "outputs": [
    {
     "data": {
      "text/plain": [
       "stocks.csv MapPartitionsRDD[6] at textFile at NativeMethodAccessorImpl.java:0"
      ]
     },
     "execution_count": 9,
     "metadata": {},
     "output_type": "execute_result"
    }
   ],
   "source": [
    "stocks.cache()"
   ]
  },
  {
   "cell_type": "markdown",
   "metadata": {},
   "source": [
    "Find stocks records in 2016"
   ]
  },
  {
   "cell_type": "code",
   "execution_count": 10,
   "metadata": {},
   "outputs": [
    {
     "data": {
      "text/plain": [
       "78041"
      ]
     },
     "execution_count": 10,
     "metadata": {},
     "output_type": "execute_result"
    }
   ],
   "source": [
    "stocks2016 = stocks.filter(lambda line: line.startswith(\"2016\"))\n",
    "stocks2016.count()"
   ]
  },
  {
   "cell_type": "code",
   "execution_count": 11,
   "metadata": {},
   "outputs": [
    {
     "data": {
      "text/plain": [
       "'2016-01-04,46.119999,46.130001,45.360001000000004,45.799999,3472200.0,44.870315000000005,XLNX'"
      ]
     },
     "execution_count": 11,
     "metadata": {},
     "output_type": "execute_result"
    }
   ],
   "source": [
    "stocks2016.first()"
   ]
  },
  {
   "cell_type": "code",
   "execution_count": 12,
   "metadata": {},
   "outputs": [
    {
     "data": {
      "text/plain": [
       "['2016-01-26,61.740002000000004,62.509997999999996,61.509997999999996,62.349998,999900.0,61.430663,AWK',\n",
       " '2016-08-03,75.599998,76.099998,75.559998,76.089996,999900.0,75.520442,KLAC',\n",
       " '2016-05-23,12.48,12.56,12.31,12.48,9997600.0,12.307377,KEY',\n",
       " '2016-02-22,40.139998999999996,40.93,40.07,40.84,9997300.0,40.60075,AAL',\n",
       " '2016-07-12,38.470001,38.91,38.240002000000004,38.790001000000004,9997200.0,38.790001000000004,PYPL',\n",
       " '2016-04-11,104.059998,104.059998,102.300003,102.620003,999700.0,102.350541,INTU',\n",
       " '2016-02-01,48.939999,49.990002000000004,48.790001000000004,49.900002,9996700.0,48.283396,SO',\n",
       " '2016-06-24,41.869999,42.73,40.630001,40.970001,9996400.0,40.970001,VIAB',\n",
       " '2016-01-04,117.25,117.730003,115.870003,117.58000200000001,9995000.0,115.84442800000001,MCD',\n",
       " '2016-02-23,131.28999299999998,131.91000400000001,130.91000400000001,131.529999,999500.0,129.68786599999999,KMB']"
      ]
     },
     "execution_count": 12,
     "metadata": {},
     "output_type": "execute_result"
    }
   ],
   "source": [
    "stocks2016.sortBy(lambda line: line.split(\",\")[5], False).take(10)"
   ]
  },
  {
   "cell_type": "markdown",
   "metadata": {},
   "source": [
    "Find average volume per stock traded in 2016"
   ]
  },
  {
   "cell_type": "code",
   "execution_count": 13,
   "metadata": {},
   "outputs": [
    {
     "data": {
      "text/plain": [
       "('XLNX', 3472200.0)"
      ]
     },
     "execution_count": 13,
     "metadata": {},
     "output_type": "execute_result"
    }
   ],
   "source": [
    "stocks2016.map(lambda line: line.split(\",\"))\\\n",
    ".map(lambda tokens: (tokens[7], float(tokens[5])))\\\n",
    ".first()"
   ]
  },
  {
   "cell_type": "code",
   "execution_count": 15,
   "metadata": {},
   "outputs": [
    {
     "data": {
      "text/plain": [
       "('XLNX', 2872973.717948718)"
      ]
     },
     "execution_count": 15,
     "metadata": {},
     "output_type": "execute_result"
    }
   ],
   "source": [
    "stocks2016.map(lambda line: line.split(\",\"))\\\n",
    ".map(lambda tokens: (tokens[7], float(tokens[5])))\\\n",
    ".groupByKey().mapValues(lambda volumes: sum(volumes)/ len(volumes))\\\n",
    ".first()"
   ]
  },
  {
   "cell_type": "code",
   "execution_count": 16,
   "metadata": {},
   "outputs": [
    {
     "name": "stdout",
     "output_type": "stream",
     "text": [
      "('BAC', 109953689.74358974)\n",
      "('FCX', 47979558.333333336)\n",
      "('CHK', 41622735.256410256)\n",
      "('AAPL', 40944183.974358976)\n",
      "('GE', 37751663.461538464)\n",
      "('F', 37432197.43589743)\n",
      "('PFE', 35777183.974358976)\n",
      "('MSFT', 34194448.07692308)\n",
      "('FB', 28902566.025641024)\n",
      "('MU', 27260807.692307692)\n"
     ]
    }
   ],
   "source": [
    "top10 = stocks2016.map(lambda line: line.split(\",\"))\\\n",
    ".map(lambda tokens: (tokens[7], float(tokens[5])))\\\n",
    ".groupByKey().mapValues(lambda volumes: sum(volumes)/ len(volumes))\\\n",
    ".sortBy(lambda p: p[1], False)\\\n",
    ".take(10)\n",
    "\n",
    "for r in top10:\n",
    "    print(r)"
   ]
  },
  {
   "cell_type": "code",
   "execution_count": 17,
   "metadata": {},
   "outputs": [
    {
     "data": {
      "text/plain": [
       "'2014-01-02,46.68,46.700001,45.900002,45.970001,3436800.0,42.9403,XLNX'"
      ]
     },
     "execution_count": 17,
     "metadata": {},
     "output_type": "execute_result"
    }
   ],
   "source": [
    "stocksData = stocks.filter(lambda line: not line.startswith(\"date\"))\n",
    "stocksData.first()"
   ]
  },
  {
   "cell_type": "markdown",
   "metadata": {},
   "source": [
    "# Parse the date field as datetime object"
   ]
  },
  {
   "cell_type": "code",
   "execution_count": 18,
   "metadata": {},
   "outputs": [
    {
     "name": "stdout",
     "output_type": "stream",
     "text": [
      "<class 'datetime.datetime'> 2016\n"
     ]
    }
   ],
   "source": [
    "from datetime import datetime\n",
    "d = datetime.strptime(\"2016-07-17\", \"%Y-%m-%d\")\n",
    "print(type(d), d.year)"
   ]
  },
  {
   "cell_type": "code",
   "execution_count": 19,
   "metadata": {},
   "outputs": [
    {
     "data": {
      "text/plain": [
       "'2016-01-04,46.119999,46.130001,45.360001000000004,45.799999,3472200.0,44.870315000000005,XLNX'"
      ]
     },
     "execution_count": 19,
     "metadata": {},
     "output_type": "execute_result"
    }
   ],
   "source": [
    "stocksData.filter(lambda line: datetime.strptime(line.split(\",\")[0],\"%Y-%m-%d\").year == 2016).first()"
   ]
  },
  {
   "cell_type": "code",
   "execution_count": null,
   "metadata": {
    "collapsed": true
   },
   "outputs": [],
   "source": []
  }
 ],
 "metadata": {
  "kernelspec": {
   "display_name": "Python 3",
   "language": "python",
   "name": "python3"
  },
  "language_info": {
   "codemirror_mode": {
    "name": "ipython",
    "version": 3
   },
   "file_extension": ".py",
   "mimetype": "text/x-python",
   "name": "python",
   "nbconvert_exporter": "python",
   "pygments_lexer": "ipython3",
   "version": "3.6.3"
  }
 },
 "nbformat": 4,
 "nbformat_minor": 2
}
