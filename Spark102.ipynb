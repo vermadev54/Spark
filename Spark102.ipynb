{
 "cells": [
  {
   "cell_type": "code",
   "execution_count": 1,
   "metadata": {
    "collapsed": true
   },
   "outputs": [],
   "source": [
    "from pyspark import SparkContext,SparkConf\n",
    "sc = SparkContext.getOrCreate()"
   ]
  },
  {
   "cell_type": "code",
   "execution_count": 2,
   "metadata": {},
   "outputs": [
    {
     "data": {
      "text/html": [
       "\n",
       "        <div>\n",
       "            <p><b>SparkContext</b></p>\n",
       "\n",
       "            <p><a href=\"http://Raja:4040\">Spark UI</a></p>\n",
       "\n",
       "            <dl>\n",
       "              <dt>Version</dt>\n",
       "                <dd><code>v3.0.0-preview2</code></dd>\n",
       "              <dt>Master</dt>\n",
       "                <dd><code>local[2]</code></dd>\n",
       "              <dt>AppName</dt>\n",
       "                <dd><code>PySparkShell</code></dd>\n",
       "            </dl>\n",
       "        </div>\n",
       "        "
      ],
      "text/plain": [
       "<SparkContext master=local[2] appName=PySparkShell>"
      ]
     },
     "execution_count": 2,
     "metadata": {},
     "output_type": "execute_result"
    }
   ],
   "source": [
    "sc"
   ]
  },
  {
   "cell_type": "code",
   "execution_count": 3,
   "metadata": {},
   "outputs": [
    {
     "data": {
      "text/plain": [
       "ParallelCollectionRDD[0] at readRDDFromFile at PythonRDD.scala:247"
      ]
     },
     "execution_count": 3,
     "metadata": {},
     "output_type": "execute_result"
    }
   ],
   "source": [
    "distData = sc.parallelize([1, 2, 3, 4])\n",
    "distData"
   ]
  },
  {
   "cell_type": "code",
   "execution_count": 5,
   "metadata": {},
   "outputs": [
    {
     "data": {
      "text/plain": [
       "[1, 2, 3, 4]"
      ]
     },
     "execution_count": 5,
     "metadata": {},
     "output_type": "execute_result"
    }
   ],
   "source": [
    "distData.collect()"
   ]
  },
  {
   "cell_type": "code",
   "execution_count": 6,
   "metadata": {},
   "outputs": [
    {
     "name": "stdout",
     "output_type": "stream",
     "text": [
      "[0.6995628857024389, 0.3641430697300171, 0.24819987353145323, 0.912245138682499, 0.2146589097157564, 0.815968474766547, 0.3795791568538104, 0.42816534013242435, 0.10348170707991067, 0.7917594692047765]\n"
     ]
    }
   ],
   "source": [
    "#Basic statistics using spark RDD\n",
    "from random import random\n",
    "l = [random() for _ in range(10)]\n",
    "print(l)"
   ]
  },
  {
   "cell_type": "code",
   "execution_count": 7,
   "metadata": {
    "collapsed": true
   },
   "outputs": [],
   "source": [
    "rdd = sc.parallelize(l, numSlices=4) # no of partitions = 4"
   ]
  },
  {
   "cell_type": "code",
   "execution_count": 8,
   "metadata": {},
   "outputs": [
    {
     "data": {
      "text/plain": [
       "(0.912245138682499, 4.957764025399634)"
      ]
     },
     "execution_count": 8,
     "metadata": {},
     "output_type": "execute_result"
    }
   ],
   "source": [
    "rdd.max(), rdd.sum()"
   ]
  },
  {
   "cell_type": "code",
   "execution_count": 9,
   "metadata": {},
   "outputs": [
    {
     "data": {
      "text/plain": [
       "(count: 10, mean: 0.49577640253996336, stdev: 0.2710573331083842, max: 0.912245138682499, min: 0.10348170707991067)"
      ]
     },
     "execution_count": 9,
     "metadata": {},
     "output_type": "execute_result"
    }
   ],
   "source": [
    "rdd.stats()"
   ]
  },
  {
   "cell_type": "markdown",
   "metadata": {},
   "source": [
    "Exercise 1:\n",
    "1. Create a directory in HDFS called movielens and load movies.csv and ratings.csv from Movies25M directory.\n",
    "2. Load movies.csv into in moviesRdd\n",
    "3. Load ratings.csv into ratingsRdd\n",
    "4. Find out 10 top movies based on the highest average rating. Consider only those movies that have got at least 100 ratings."
   ]
  },
  {
   "cell_type": "code",
   "execution_count": 16,
   "metadata": {},
   "outputs": [
    {
     "data": {
      "text/plain": [
       "62424"
      ]
     },
     "execution_count": 16,
     "metadata": {},
     "output_type": "execute_result"
    }
   ],
   "source": [
    "movies = sc.textFile(\"Movies25M/movies.csv\")\n",
    "movies.count()"
   ]
  },
  {
   "cell_type": "code",
   "execution_count": 17,
   "metadata": {},
   "outputs": [
    {
     "name": "stdout",
     "output_type": "stream",
     "text": [
      "movieId,title,genres\n",
      "1,Toy Story (1995),Adventure|Animation|Children|Comedy|Fantasy\n",
      "2,Jumanji (1995),Adventure|Children|Fantasy\n",
      "3,Grumpier Old Men (1995),Comedy|Romance\n",
      "4,Waiting to Exhale (1995),Comedy|Drama|Romance\n",
      "5,Father of the Bride Part II (1995),Comedy\n",
      "6,Heat (1995),Action|Crime|Thriller\n",
      "7,Sabrina (1995),Comedy|Romance\n",
      "8,Tom and Huck (1995),Adventure|Children\n",
      "9,Sudden Death (1995),Action\n"
     ]
    }
   ],
   "source": [
    "for r in movies.take(10):\n",
    "    print(r)"
   ]
  },
  {
   "cell_type": "code",
   "execution_count": 18,
   "metadata": {},
   "outputs": [
    {
     "name": "stdout",
     "output_type": "stream",
     "text": [
      "1,Toy Story (1995),Adventure|Animation|Children|Comedy|Fantasy\n",
      "2,Jumanji (1995),Adventure|Children|Fantasy\n",
      "3,Grumpier Old Men (1995),Comedy|Romance\n",
      "4,Waiting to Exhale (1995),Comedy|Drama|Romance\n",
      "5,Father of the Bride Part II (1995),Comedy\n",
      "6,Heat (1995),Action|Crime|Thriller\n",
      "7,Sabrina (1995),Comedy|Romance\n",
      "8,Tom and Huck (1995),Adventure|Children\n",
      "9,Sudden Death (1995),Action\n",
      "10,GoldenEye (1995),Action|Adventure|Thriller\n"
     ]
    }
   ],
   "source": [
    "moviesData = movies.filter(lambda line: not line.startswith(\"movieId\"))\n",
    "for r in moviesData.take(10):\n",
    "    print(r)"
   ]
  },
  {
   "cell_type": "code",
   "execution_count": 23,
   "metadata": {},
   "outputs": [
    {
     "data": {
      "text/plain": [
       "25000096"
      ]
     },
     "execution_count": 23,
     "metadata": {},
     "output_type": "execute_result"
    }
   ],
   "source": [
    "ratings = sc.textFile(\"Movies25M/ratings.csv\")\n",
    "ratings.count()"
   ]
  },
  {
   "cell_type": "code",
   "execution_count": 24,
   "metadata": {},
   "outputs": [
    {
     "name": "stdout",
     "output_type": "stream",
     "text": [
      "userId,movieId,rating,timestamp\n",
      "1,296,5.0,1147880044\n",
      "1,306,3.5,1147868817\n",
      "1,307,5.0,1147868828\n",
      "1,665,5.0,1147878820\n",
      "1,899,3.5,1147868510\n",
      "1,1088,4.0,1147868495\n",
      "1,1175,3.5,1147868826\n",
      "1,1217,3.5,1147878326\n",
      "1,1237,5.0,1147868839\n"
     ]
    }
   ],
   "source": [
    "for r in ratings.take(10):\n",
    "    print(r)"
   ]
  },
  {
   "cell_type": "code",
   "execution_count": 25,
   "metadata": {},
   "outputs": [
    {
     "name": "stdout",
     "output_type": "stream",
     "text": [
      "1,296,5.0,1147880044\n",
      "1,306,3.5,1147868817\n",
      "1,307,5.0,1147868828\n",
      "1,665,5.0,1147878820\n",
      "1,899,3.5,1147868510\n",
      "1,1088,4.0,1147868495\n",
      "1,1175,3.5,1147868826\n",
      "1,1217,3.5,1147878326\n",
      "1,1237,5.0,1147868839\n",
      "1,1250,4.0,1147868414\n"
     ]
    }
   ],
   "source": [
    "ratingsData = ratings.filter(lambda line: not line.startswith(\"userId\"))\n",
    "for r in ratingsData.take(10):\n",
    "    print(r)"
   ]
  },
  {
   "cell_type": "code",
   "execution_count": 28,
   "metadata": {},
   "outputs": [
    {
     "data": {
      "text/plain": [
       "'movieId,title,genres'"
      ]
     },
     "execution_count": 28,
     "metadata": {},
     "output_type": "execute_result"
    }
   ],
   "source": [
    "movies.first()"
   ]
  },
  {
   "cell_type": "code",
   "execution_count": 29,
   "metadata": {},
   "outputs": [
    {
     "data": {
      "text/plain": [
       "'userId,movieId,rating,timestamp'"
      ]
     },
     "execution_count": 29,
     "metadata": {},
     "output_type": "execute_result"
    }
   ],
   "source": [
    "ratings.first()"
   ]
  },
  {
   "cell_type": "code",
   "execution_count": 30,
   "metadata": {},
   "outputs": [
    {
     "data": {
      "text/plain": [
       "(1, 'Toy Story (1995)')"
      ]
     },
     "execution_count": 30,
     "metadata": {},
     "output_type": "execute_result"
    }
   ],
   "source": [
    "movies_by_movieid = moviesData\\\n",
    ".map(lambda line: line.split(\",\"))\\\n",
    ".map(lambda tokens: (int(tokens[0]), tokens[1]))\n",
    "\n",
    "movies_by_movieid.first()"
   ]
  },
  {
   "cell_type": "code",
   "execution_count": 31,
   "metadata": {},
   "outputs": [
    {
     "data": {
      "text/plain": [
       "(296, 5.0)"
      ]
     },
     "execution_count": 31,
     "metadata": {},
     "output_type": "execute_result"
    }
   ],
   "source": [
    "ratings_by_movieid = ratingsData\\\n",
    ".map(lambda line: line.split(\",\"))\\\n",
    ".map(lambda tokens: (int(tokens[1]), float(tokens[2])))\n",
    "\n",
    "ratings_by_movieid.first()"
   ]
  },
  {
   "cell_type": "code",
   "execution_count": 32,
   "metadata": {},
   "outputs": [
    {
     "name": "stdout",
     "output_type": "stream",
     "text": [
      "((171011, 'Planet Earth II (2016)'), (4.483096085409253, 1124))\n",
      "((159817, 'Planet Earth (2006)'), (4.464796794504865, 1747))\n",
      "((318, '\"Shawshank Redemption'), (4.413576004516335, 81482))\n",
      "((170705, 'Band of Brothers (2001)'), (4.398598820058997, 1356))\n",
      "((171495, 'Cosmos'), (4.3267148014440435, 277))\n",
      "((858, '\"Godfather'), (4.324336165187245, 52498))\n",
      "((179135, 'Blue Planet II (2017)'), (4.289833080424886, 659))\n",
      "((50, '\"Usual Suspects'), (4.284353213163313, 55366))\n",
      "((198185, 'Twin Peaks (1989)'), (4.267361111111111, 288))\n",
      "((1221, '\"Godfather: Part II'), (4.2617585117585115, 34188))\n"
     ]
    }
   ],
   "source": [
    "top_10 = movies_by_movieid.join(ratings_by_movieid)\\\n",
    ".map(lambda p: ((p[0], p[1][0]), p[1][1]))\\\n",
    ".groupByKey().mapValues(lambda values: (sum(values)/len(values), len(values)))\\\n",
    ".filter(lambda p: p[1][1] >= 100)\\\n",
    ".sortBy(lambda p: p[1], False)\\\n",
    ".take(10)\n",
    "\n",
    "for m in top_10:\n",
    "    print(m)"
   ]
  },
  {
   "cell_type": "code",
   "execution_count": 33,
   "metadata": {},
   "outputs": [
    {
     "data": {
      "text/plain": [
       "(23, ('Assassins (1995)', 4.0))"
      ]
     },
     "execution_count": 33,
     "metadata": {},
     "output_type": "execute_result"
    }
   ],
   "source": [
    "movies_by_movieid.join(ratings_by_movieid)\\\n",
    ".first()"
   ]
  },
  {
   "cell_type": "code",
   "execution_count": 34,
   "metadata": {},
   "outputs": [
    {
     "data": {
      "text/plain": [
       "((23, 'Assassins (1995)'), 4.0)"
      ]
     },
     "execution_count": 34,
     "metadata": {},
     "output_type": "execute_result"
    }
   ],
   "source": [
    "movies_by_movieid.join(ratings_by_movieid)\\\n",
    ".map(lambda p: ((p[0], p[1][0]), p[1][1]))\\\n",
    ".first()"
   ]
  },
  {
   "cell_type": "code",
   "execution_count": 35,
   "metadata": {},
   "outputs": [
    {
     "data": {
      "text/plain": [
       "((391, \"Jason's Lyric (1994)\"), (3.1876574307304786, 397))"
      ]
     },
     "execution_count": 35,
     "metadata": {},
     "output_type": "execute_result"
    }
   ],
   "source": [
    "top_10 = movies_by_movieid.join(ratings_by_movieid)\\\n",
    ".map(lambda p: ((p[0], p[1][0]), p[1][1]))\\\n",
    ".groupByKey().mapValues(lambda values: (sum(values)/len(values), len(values)))\\\n",
    ".filter(lambda p: p[1][1] >= 100)\n",
    "\n",
    "top_10.first()"
   ]
  },
  {
   "cell_type": "code",
   "execution_count": 36,
   "metadata": {},
   "outputs": [
    {
     "name": "stdout",
     "output_type": "stream",
     "text": [
      "((171011, 'Planet Earth II (2016)'), (4.483096085409253, 1124))\n",
      "((159817, 'Planet Earth (2006)'), (4.464796794504865, 1747))\n",
      "((318, '\"Shawshank Redemption'), (4.413576004516335, 81482))\n",
      "((170705, 'Band of Brothers (2001)'), (4.398598820058997, 1356))\n",
      "((171495, 'Cosmos'), (4.3267148014440435, 277))\n",
      "((858, '\"Godfather'), (4.324336165187245, 52498))\n",
      "((179135, 'Blue Planet II (2017)'), (4.289833080424886, 659))\n",
      "((50, '\"Usual Suspects'), (4.284353213163313, 55366))\n",
      "((198185, 'Twin Peaks (1989)'), (4.267361111111111, 288))\n",
      "((1221, '\"Godfather: Part II'), (4.2617585117585115, 34188))\n"
     ]
    }
   ],
   "source": [
    "top_10 = movies_by_movieid.join(ratings_by_movieid)\\\n",
    ".map(lambda p: ((p[0], p[1][0]), p[1][1]))\\\n",
    ".groupByKey().mapValues(lambda values: (sum(values)/len(values), len(values)))\\\n",
    ".filter(lambda p: p[1][1] >= 100)\\\n",
    ".sortBy(lambda p: p[1], False)\\\n",
    "\n",
    "for m in top_10.take(10):\n",
    "    print(m)"
   ]
  }
 ],
 "metadata": {
  "kernelspec": {
   "display_name": "Python 3",
   "language": "python",
   "name": "python3"
  },
  "language_info": {
   "codemirror_mode": {
    "name": "ipython",
    "version": 3
   },
   "file_extension": ".py",
   "mimetype": "text/x-python",
   "name": "python",
   "nbconvert_exporter": "python",
   "pygments_lexer": "ipython3",
   "version": "3.6.3"
  }
 },
 "nbformat": 4,
 "nbformat_minor": 2
}
