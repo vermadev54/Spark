{
 "cells": [
  {
   "cell_type": "markdown",
   "metadata": {},
   "source": [
    "# Problem Statement: IMDB Comment Sentiment Classifier"
   ]
  },
  {
   "cell_type": "markdown",
   "metadata": {},
   "source": [
    "Dataset: For this exercise we will use a dataset hosted at http://ai.stanford.edu/~amaas/data/sentiment/\n",
    "\n",
    "Problem Statement: This is a dataset for binary sentiment classification containing substantially more data than previous benchmark datasets. We provide a set of 25,000 highly polar movie reviews for training, and 25,000 for testing. There is additional unlabeled data for use as well. Raw text and already processed bag of words formats are provided.\n",
    "\n",
    "Launch a spark session, verify the spark session UI"
   ]
  },
  {
   "cell_type": "code",
   "execution_count": 10,
   "metadata": {},
   "outputs": [],
   "source": [
    "imdb = spark.read.format(\"json\").load(\"data/imdb-comments.json\").repartition(4).cache()"
   ]
  },
  {
   "cell_type": "code",
   "execution_count": 11,
   "metadata": {},
   "outputs": [
    {
     "data": {
      "text/plain": [
       "50000"
      ]
     },
     "execution_count": 11,
     "metadata": {},
     "output_type": "execute_result"
    }
   ],
   "source": [
    "imdb.count()"
   ]
  },
  {
   "cell_type": "code",
   "execution_count": 12,
   "metadata": {},
   "outputs": [
    {
     "name": "stdout",
     "output_type": "stream",
     "text": [
      "root\n",
      " |-- content: string (nullable = true)\n",
      " |-- label: string (nullable = true)\n",
      " |-- name: string (nullable = true)\n",
      " |-- sentiment: string (nullable = true)\n",
      "\n"
     ]
    }
   ],
   "source": [
    "imdb.printSchema()"
   ]
  },
  {
   "cell_type": "code",
   "execution_count": 13,
   "metadata": {},
   "outputs": [
    {
     "name": "stdout",
     "output_type": "stream",
     "text": [
      "+--------------------+-----+------------+---------+\n",
      "|             content|label|        name|sentiment|\n",
      "+--------------------+-----+------------+---------+\n",
      "|I experienced Nig...| test| 10221_8.txt|      pos|\n",
      "|I'm an action mov...| test|  2038_8.txt|      pos|\n",
      "|After a decade of...| test| 10738_8.txt|      pos|\n",
      "|I like \"Hack.\" Th...| test|  423_10.txt|      pos|\n",
      "|One of the bigges...| test|  2802_8.txt|      pos|\n",
      "|I just finished a...| test|  1702_7.txt|      pos|\n",
      "|Most of Chaplin's...| test|  1499_9.txt|      pos|\n",
      "|This DVD set is t...| test| 12222_7.txt|      pos|\n",
      "|Hard Justice is a...| test| 2157_10.txt|      pos|\n",
      "|Dan Finnerty and ...| test|12024_10.txt|      pos|\n",
      "|OK, well, no one ...| test| 1876_10.txt|      pos|\n",
      "|The Ali G show wa...| test|  3493_9.txt|      pos|\n",
      "|In this film, the...| test| 10686_7.txt|      pos|\n",
      "|I just saw \"Eagle...| test| 10929_7.txt|      pos|\n",
      "|A gang of bandits...| test|  3563_8.txt|      pos|\n",
      "|There has been a ...| test| 12159_8.txt|      pos|\n",
      "|This is a cut abo...| test|10083_10.txt|      pos|\n",
      "|Used to watch thi...| test| 4690_10.txt|      pos|\n",
      "|For those of you ...| test| 10752_7.txt|      pos|\n",
      "|I think the film ...| test|10282_10.txt|      pos|\n",
      "+--------------------+-----+------------+---------+\n",
      "only showing top 20 rows\n",
      "\n"
     ]
    }
   ],
   "source": [
    "imdb.show()"
   ]
  },
  {
   "cell_type": "markdown",
   "metadata": {},
   "source": [
    "label - column indicate whethet the data belong to training or test bucket. sentiment - column indicates whether the comment carries positive or negative sentiment. This column has been manually curated.\n",
    "\n",
    "Find out for each combination of label and sentimnet how many records are there."
   ]
  },
  {
   "cell_type": "code",
   "execution_count": 14,
   "metadata": {
    "collapsed": true
   },
   "outputs": [],
   "source": [
    "from pyspark.sql.functions import *\n",
    "from pyspark.sql.types import *"
   ]
  },
  {
   "cell_type": "code",
   "execution_count": 15,
   "metadata": {},
   "outputs": [
    {
     "name": "stdout",
     "output_type": "stream",
     "text": [
      "+---------+-----+-----+\n",
      "|sentiment| test|train|\n",
      "+---------+-----+-----+\n",
      "|      pos|12500|12500|\n",
      "|      neg|12500|12500|\n",
      "+---------+-----+-----+\n",
      "\n"
     ]
    }
   ],
   "source": [
    "\n",
    "imdb.groupBy(\"sentiment\").pivot(\"label\").count().show()"
   ]
  },
  {
   "cell_type": "markdown",
   "metadata": {},
   "source": [
    "Look at a sample comment value"
   ]
  },
  {
   "cell_type": "code",
   "execution_count": 17,
   "metadata": {},
   "outputs": [
    {
     "data": {
      "text/plain": [
       "\"Greta Garbo stars in 'Anna Christie', a very early 1930 MGM 'talkie', the first time 'Garbo Talks'. 'Anna Christie' is a powerful movie but not for everyone. The movie is filmed like a stage play, short on sets and cinematography, long on dialogue and dramatic characterizations. Eugene O'Neil who wrote the play 'Anna Christie' is known for his dark work and Garbo's character Anna Christie is a bleak figure with a tortured past.<br /><br />The sound quality on the DVD was mediocre. Not helping matters is that George F. Marion who plays Anna's estranged dad, Chris Christofferson, is verbally hard to understand. Marion gives a good performance as the old drunken seamen who’s teetering on insanity with his fixation of the evil 'devil sea'. But his dialogue is written with a very heavy Swedish accent, this is true to O'Neils original play. Marie Dressler's dialogue as Marthy Owens is equally hard to understand. Dressler believably portrays a broken down old drunken women, a 'wharf rat'. Her dialogue also is true to O'Neils original play as is Charles Bickford as the Irish seamen, Matt Burke who pursues Anna in a troubled relationship. Garbo is actually the easiest to understand.<br /><br />The films strong point is Greta Garbo. She delivers a gut wrenching performance as the victim of neglect and abuse, leading to a life of prostitution. Garbo was a huge star at the time and considered one of the most beautiful women in Hollywood. Here her look isn't glamorous, it's tortured. Her body posture nearly doubles over in agony. She scrunches her face to become a pathetic creature on the screen. Garbo conveys these angst-ridden feelings to the viewer to convince us of her misery.<br /><br />This is dark subject matter and Garbo brings it to life. It’s not light fare, not fun, not for everyone. ‘Anna Christie’ is strong emotions dredged up from the depths for examination, this is one helluva ride.\""
      ]
     },
     "execution_count": 17,
     "metadata": {},
     "output_type": "execute_result"
    }
   ],
   "source": [
    "content = imdb.sample(False, 0.001, 1).first().content\n",
    "content"
   ]
  },
  {
   "cell_type": "code",
   "execution_count": 18,
   "metadata": {},
   "outputs": [
    {
     "data": {
      "text/plain": [
       "<function __main__.remove_html_tags>"
      ]
     },
     "execution_count": 18,
     "metadata": {},
     "output_type": "execute_result"
    }
   ],
   "source": [
    "from bs4 import BeautifulSoup\n",
    "from pyspark.sql.types import * \n",
    "import re\n",
    "def remove_html_tags(text):\n",
    "    text = BeautifulSoup(text, \"html5lib\").text.lower() #removed html tags\n",
    "    text = re.sub(\"[\\W]+\", \" \", text)\n",
    "    return text\n",
    "\n",
    "spark.udf.register(\"remove_html_tags\", remove_html_tags, StringType())"
   ]
  },
  {
   "cell_type": "markdown",
   "metadata": {},
   "source": [
    "Test the remove_html_tags function"
   ]
  },
  {
   "cell_type": "code",
   "execution_count": 20,
   "metadata": {},
   "outputs": [
    {
     "data": {
      "text/plain": [
       "'greta garbo stars in anna christie a very early 1930 mgm talkie the first time garbo talks anna christie is a powerful movie but not for everyone the movie is filmed like a stage play short on sets and cinematography long on dialogue and dramatic characterizations eugene o neil who wrote the play anna christie is known for his dark work and garbo s character anna christie is a bleak figure with a tortured past the sound quality on the dvd was mediocre not helping matters is that george f marion who plays anna s estranged dad chris christofferson is verbally hard to understand marion gives a good performance as the old drunken seamen who s teetering on insanity with his fixation of the evil devil sea but his dialogue is written with a very heavy swedish accent this is true to o neils original play marie dressler s dialogue as marthy owens is equally hard to understand dressler believably portrays a broken down old drunken women a wharf rat her dialogue also is true to o neils original play as is charles bickford as the irish seamen matt burke who pursues anna in a troubled relationship garbo is actually the easiest to understand the films strong point is greta garbo she delivers a gut wrenching performance as the victim of neglect and abuse leading to a life of prostitution garbo was a huge star at the time and considered one of the most beautiful women in hollywood here her look isn t glamorous it s tortured her body posture nearly doubles over in agony she scrunches her face to become a pathetic creature on the screen garbo conveys these angst ridden feelings to the viewer to convince us of her misery this is dark subject matter and garbo brings it to life it s not light fare not fun not for everyone anna christie is strong emotions dredged up from the depths for examination this is one helluva ride '"
      ]
     },
     "execution_count": 20,
     "metadata": {},
     "output_type": "execute_result"
    }
   ],
   "source": [
    "remove_html_tags(content)"
   ]
  },
  {
   "cell_type": "markdown",
   "metadata": {},
   "source": [
    "Apply the the udf on the imdb dataframe."
   ]
  },
  {
   "cell_type": "code",
   "execution_count": 21,
   "metadata": {},
   "outputs": [
    {
     "data": {
      "text/plain": [
       "'greta garbo stars in anna christie a very early 1930 mgm talkie the first time garbo talks anna christie is a powerful movie but not for everyone the movie is filmed like a stage play short on sets and cinematography long on dialogue and dramatic characterizations eugene o neil who wrote the play anna christie is known for his dark work and garbo s character anna christie is a bleak figure with a tortured past the sound quality on the dvd was mediocre not helping matters is that george f marion who plays anna s estranged dad chris christofferson is verbally hard to understand marion gives a good performance as the old drunken seamen who s teetering on insanity with his fixation of the evil devil sea but his dialogue is written with a very heavy swedish accent this is true to o neils original play marie dressler s dialogue as marthy owens is equally hard to understand dressler believably portrays a broken down old drunken women a wharf rat her dialogue also is true to o neils original play as is charles bickford as the irish seamen matt burke who pursues anna in a troubled relationship garbo is actually the easiest to understand the films strong point is greta garbo she delivers a gut wrenching performance as the victim of neglect and abuse leading to a life of prostitution garbo was a huge star at the time and considered one of the most beautiful women in hollywood here her look isn t glamorous it s tortured her body posture nearly doubles over in agony she scrunches her face to become a pathetic creature on the screen garbo conveys these angst ridden feelings to the viewer to convince us of her misery this is dark subject matter and garbo brings it to life it s not light fare not fun not for everyone anna christie is strong emotions dredged up from the depths for examination this is one helluva ride '"
      ]
     },
     "execution_count": 21,
     "metadata": {},
     "output_type": "execute_result"
    }
   ],
   "source": [
    "imdb_clean = imdb.withColumn(\"content\", expr(\"remove_html_tags(content)\")).cache()\n",
    "imdb_clean.sample(False, 0.001, 1).first().content"
   ]
  },
  {
   "cell_type": "markdown",
   "metadata": {},
   "source": [
    "Use Tokenizer to split the string into terms. Then use StopWordsRemover to remove stop words like prepositions, apply CountVectorizer to find all distinct terms and found of each term per document."
   ]
  },
  {
   "cell_type": "code",
   "execution_count": 22,
   "metadata": {
    "collapsed": true
   },
   "outputs": [],
   "source": [
    "from pyspark.ml.feature import HashingTF, IDF, Tokenizer, CountVectorizer, StopWordsRemover"
   ]
  },
  {
   "cell_type": "code",
   "execution_count": 23,
   "metadata": {
    "collapsed": true
   },
   "outputs": [],
   "source": [
    "tokenizer = Tokenizer(inputCol=\"content\", outputCol=\"terms\")\n",
    "terms_data = tokenizer.transform(imdb_clean)"
   ]
  },
  {
   "cell_type": "code",
   "execution_count": 24,
   "metadata": {},
   "outputs": [
    {
     "name": "stdout",
     "output_type": "stream",
     "text": [
      "['greta', 'garbo', 'stars', 'in', 'anna', 'christie', 'a', 'very', 'early', '1930', 'mgm', 'talkie', 'the', 'first', 'time', 'garbo', 'talks', 'anna', 'christie', 'is', 'a', 'powerful', 'movie', 'but', 'not', 'for', 'everyone', 'the', 'movie', 'is', 'filmed', 'like', 'a', 'stage', 'play', 'short', 'on', 'sets', 'and', 'cinematography', 'long', 'on', 'dialogue', 'and', 'dramatic', 'characterizations', 'eugene', 'o', 'neil', 'who', 'wrote', 'the', 'play', 'anna', 'christie', 'is', 'known', 'for', 'his', 'dark', 'work', 'and', 'garbo', 's', 'character', 'anna', 'christie', 'is', 'a', 'bleak', 'figure', 'with', 'a', 'tortured', 'past', 'the', 'sound', 'quality', 'on', 'the', 'dvd', 'was', 'mediocre', 'not', 'helping', 'matters', 'is', 'that', 'george', 'f', 'marion', 'who', 'plays', 'anna', 's', 'estranged', 'dad', 'chris', 'christofferson', 'is', 'verbally', 'hard', 'to', 'understand', 'marion', 'gives', 'a', 'good', 'performance', 'as', 'the', 'old', 'drunken', 'seamen', 'who', 's', 'teetering', 'on', 'insanity', 'with', 'his', 'fixation', 'of', 'the', 'evil', 'devil', 'sea', 'but', 'his', 'dialogue', 'is', 'written', 'with', 'a', 'very', 'heavy', 'swedish', 'accent', 'this', 'is', 'true', 'to', 'o', 'neils', 'original', 'play', 'marie', 'dressler', 's', 'dialogue', 'as', 'marthy', 'owens', 'is', 'equally', 'hard', 'to', 'understand', 'dressler', 'believably', 'portrays', 'a', 'broken', 'down', 'old', 'drunken', 'women', 'a', 'wharf', 'rat', 'her', 'dialogue', 'also', 'is', 'true', 'to', 'o', 'neils', 'original', 'play', 'as', 'is', 'charles', 'bickford', 'as', 'the', 'irish', 'seamen', 'matt', 'burke', 'who', 'pursues', 'anna', 'in', 'a', 'troubled', 'relationship', 'garbo', 'is', 'actually', 'the', 'easiest', 'to', 'understand', 'the', 'films', 'strong', 'point', 'is', 'greta', 'garbo', 'she', 'delivers', 'a', 'gut', 'wrenching', 'performance', 'as', 'the', 'victim', 'of', 'neglect', 'and', 'abuse', 'leading', 'to', 'a', 'life', 'of', 'prostitution', 'garbo', 'was', 'a', 'huge', 'star', 'at', 'the', 'time', 'and', 'considered', 'one', 'of', 'the', 'most', 'beautiful', 'women', 'in', 'hollywood', 'here', 'her', 'look', 'isn', 't', 'glamorous', 'it', 's', 'tortured', 'her', 'body', 'posture', 'nearly', 'doubles', 'over', 'in', 'agony', 'she', 'scrunches', 'her', 'face', 'to', 'become', 'a', 'pathetic', 'creature', 'on', 'the', 'screen', 'garbo', 'conveys', 'these', 'angst', 'ridden', 'feelings', 'to', 'the', 'viewer', 'to', 'convince', 'us', 'of', 'her', 'misery', 'this', 'is', 'dark', 'subject', 'matter', 'and', 'garbo', 'brings', 'it', 'to', 'life', 'it', 's', 'not', 'light', 'fare', 'not', 'fun', 'not', 'for', 'everyone', 'anna', 'christie', 'is', 'strong', 'emotions', 'dredged', 'up', 'from', 'the', 'depths', 'for', 'examination', 'this', 'is', 'one', 'helluva', 'ride']\n"
     ]
    }
   ],
   "source": [
    "print(terms_data.sample(False, 0.001, 1).first().terms)"
   ]
  },
  {
   "cell_type": "code",
   "execution_count": 25,
   "metadata": {
    "collapsed": true
   },
   "outputs": [],
   "source": [
    "remover = StopWordsRemover(inputCol=\"terms\", outputCol=\"filtered\")\n",
    "terms_stop_removed = remover.transform(terms_data)"
   ]
  },
  {
   "cell_type": "code",
   "execution_count": 26,
   "metadata": {},
   "outputs": [
    {
     "name": "stdout",
     "output_type": "stream",
     "text": [
      "['greta', 'garbo', 'stars', 'anna', 'christie', 'early', '1930', 'mgm', 'talkie', 'first', 'time', 'garbo', 'talks', 'anna', 'christie', 'powerful', 'movie', 'everyone', 'movie', 'filmed', 'like', 'stage', 'play', 'short', 'sets', 'cinematography', 'long', 'dialogue', 'dramatic', 'characterizations', 'eugene', 'o', 'neil', 'wrote', 'play', 'anna', 'christie', 'known', 'dark', 'work', 'garbo', 'character', 'anna', 'christie', 'bleak', 'figure', 'tortured', 'past', 'sound', 'quality', 'dvd', 'mediocre', 'helping', 'matters', 'george', 'f', 'marion', 'plays', 'anna', 'estranged', 'dad', 'chris', 'christofferson', 'verbally', 'hard', 'understand', 'marion', 'gives', 'good', 'performance', 'old', 'drunken', 'seamen', 'teetering', 'insanity', 'fixation', 'evil', 'devil', 'sea', 'dialogue', 'written', 'heavy', 'swedish', 'accent', 'true', 'o', 'neils', 'original', 'play', 'marie', 'dressler', 'dialogue', 'marthy', 'owens', 'equally', 'hard', 'understand', 'dressler', 'believably', 'portrays', 'broken', 'old', 'drunken', 'women', 'wharf', 'rat', 'dialogue', 'also', 'true', 'o', 'neils', 'original', 'play', 'charles', 'bickford', 'irish', 'seamen', 'matt', 'burke', 'pursues', 'anna', 'troubled', 'relationship', 'garbo', 'actually', 'easiest', 'understand', 'films', 'strong', 'point', 'greta', 'garbo', 'delivers', 'gut', 'wrenching', 'performance', 'victim', 'neglect', 'abuse', 'leading', 'life', 'prostitution', 'garbo', 'huge', 'star', 'time', 'considered', 'one', 'beautiful', 'women', 'hollywood', 'look', 'isn', 'glamorous', 'tortured', 'body', 'posture', 'nearly', 'doubles', 'agony', 'scrunches', 'face', 'become', 'pathetic', 'creature', 'screen', 'garbo', 'conveys', 'angst', 'ridden', 'feelings', 'viewer', 'convince', 'us', 'misery', 'dark', 'subject', 'matter', 'garbo', 'brings', 'life', 'light', 'fare', 'fun', 'everyone', 'anna', 'christie', 'strong', 'emotions', 'dredged', 'depths', 'examination', 'one', 'helluva', 'ride']\n"
     ]
    }
   ],
   "source": [
    "print(terms_stop_removed.sample(False, 0.001, 1).first().filtered)"
   ]
  },
  {
   "cell_type": "code",
   "execution_count": 27,
   "metadata": {},
   "outputs": [
    {
     "data": {
      "text/plain": [
       "SparseVector(103999, {0: 2.0, 2: 2.0, 3: 1.0, 4: 1.0, 5: 2.0, 16: 1.0, 17: 1.0, 25: 1.0, 26: 1.0, 33: 2.0, 63: 2.0, 65: 1.0, 67: 1.0, 70: 1.0, 79: 1.0, 95: 1.0, 108: 2.0, 110: 1.0, 116: 1.0, 136: 2.0, 141: 1.0, 147: 2.0, 152: 1.0, 156: 1.0, 179: 4.0, 182: 2.0, 186: 2.0, 192: 1.0, 204: 1.0, 214: 1.0, 225: 1.0, 237: 1.0, 252: 2.0, 274: 3.0, 278: 1.0, 291: 1.0, 292: 1.0, 295: 1.0, 299: 4.0, 300: 1.0, 316: 1.0, 334: 1.0, 341: 2.0, 350: 1.0, 365: 1.0, 388: 1.0, 390: 1.0, 392: 1.0, 431: 1.0, 452: 2.0, 509: 1.0, 512: 1.0, 517: 1.0, 520: 1.0, 521: 1.0, 579: 3.0, 603: 1.0, 606: 1.0, 626: 1.0, 668: 1.0, 677: 1.0, 714: 1.0, 791: 1.0, 834: 1.0, 835: 1.0, 851: 1.0, 858: 1.0, 927: 1.0, 1022: 1.0, 1067: 1.0, 1071: 1.0, 1081: 1.0, 1107: 1.0, 1129: 1.0, 1134: 1.0, 1172: 1.0, 1191: 1.0, 1194: 1.0, 1212: 1.0, 1264: 1.0, 1266: 1.0, 1409: 1.0, 1415: 1.0, 1441: 1.0, 1497: 1.0, 1693: 1.0, 1773: 1.0, 2057: 1.0, 2071: 7.0, 2079: 1.0, 2135: 1.0, 2155: 1.0, 2310: 1.0, 2327: 1.0, 2341: 1.0, 2486: 1.0, 2663: 1.0, 2721: 1.0, 2731: 1.0, 3049: 1.0, 3498: 2.0, 3550: 1.0, 3559: 1.0, 3696: 1.0, 3795: 2.0, 3872: 1.0, 4152: 8.0, 4182: 2.0, 4308: 1.0, 4594: 1.0, 4712: 5.0, 4838: 1.0, 4944: 1.0, 5045: 1.0, 5056: 1.0, 5210: 1.0, 5697: 1.0, 5831: 1.0, 5872: 1.0, 5880: 1.0, 6251: 1.0, 6581: 1.0, 6778: 1.0, 6844: 1.0, 7431: 1.0, 7662: 1.0, 7827: 1.0, 8945: 2.0, 9229: 2.0, 10106: 1.0, 10728: 1.0, 11525: 1.0, 11785: 1.0, 12658: 1.0, 12957: 1.0, 16400: 1.0, 16850: 1.0, 17165: 1.0, 18206: 1.0, 19325: 1.0, 28742: 1.0, 29179: 1.0, 34007: 2.0, 37635: 1.0, 57722: 2.0, 60787: 1.0, 61867: 1.0, 89086: 1.0})"
      ]
     },
     "execution_count": 27,
     "metadata": {},
     "output_type": "execute_result"
    }
   ],
   "source": [
    "count_vectorizer = CountVectorizer(inputCol=\"filtered\", outputCol=\"count_vectors\")\n",
    "count_vectorizer_model = count_vectorizer.fit(terms_stop_removed)\n",
    "count_vectorized = count_vectorizer_model.transform(terms_stop_removed)\n",
    "count_vectorized.sample(False, 0.001, 1).first().count_vectors"
   ]
  },
  {
   "cell_type": "markdown",
   "metadata": {},
   "source": [
    "count_vectorized Dataframe contains a column count_vectors that is a SparseVector representing which term appears and how many times. The key is the index of all unique terms. You can find list of terms count_vectorizer_model.vocabulary. See below."
   ]
  },
  {
   "cell_type": "code",
   "execution_count": 28,
   "metadata": {},
   "outputs": [
    {
     "name": "stdout",
     "output_type": "stream",
     "text": [
      "['movie', 'film', 'one', 'like', 'good', 'time', 'even', 'story', 'really', 'see', 'well', 'much', 'bad', 'get', 'people', 'great', 'also', 'first', 'made', 'make', 'way', 'movies', 'characters', 'think', 'watch', 'character', 'films', 'two', 'many', 'seen', 'love', 'never', 'plot', 'life', 'acting', 'show', 'best', 'know', 'little', 'ever', 'man', 'better', 'end', 'scene', 'still', 'say', 'scenes', 've', 'something', 'm', 'go', 'back', 'real', 'thing', 'watching', 'actors', 're', 'doesn', 'director', 'didn', 'years', 'funny', 'though', 'old', 'another', 'work', '10', 'actually', 'nothing', 'makes', 'look', 'find', 'going', 'new', 'lot', 'every', 'part', 'world', 'cast', 'us', 'things', 'want', 'quite', 'pretty', 'horror', 'around', 'seems', 'young', 'take', 'however', 'big', 'got', 'thought', 'fact', 'enough', 'long', 'give', 'may', 'comedy', 'series'] \n",
      "\n",
      "Total no of terms 103999\n"
     ]
    }
   ],
   "source": [
    "print(count_vectorizer_model.vocabulary[:100], \"\\n\\nTotal no of terms\", len(count_vectorizer_model.vocabulary))"
   ]
  },
  {
   "cell_type": "code",
   "execution_count": 29,
   "metadata": {},
   "outputs": [
    {
     "name": "stdout",
     "output_type": "stream",
     "text": [
      "+--------------------+-----+------------+---------+--------------------+--------------------+--------------------+\n",
      "|             content|label|        name|sentiment|               terms|            filtered|       count_vectors|\n",
      "+--------------------+-----+------------+---------+--------------------+--------------------+--------------------+\n",
      "|i experienced nig...| test| 10221_8.txt|      pos|[i, experienced, ...|[experienced, nig...|(103999,[1,3,5,7,...|\n",
      "|i m an action mov...| test|  2038_8.txt|      pos|[i, m, an, action...|[m, action, movie...|(103999,[0,4,5,9,...|\n",
      "|after a decade of...| test| 10738_8.txt|      pos|[after, a, decade...|[decade, turbulen...|(103999,[0,1,2,3,...|\n",
      "|i like hack think...| test|  423_10.txt|      pos|[i, like, hack, t...|[like, hack, thin...|(103999,[3,5,10,1...|\n",
      "|one of the bigges...| test|  2802_8.txt|      pos|[one, of, the, bi...|[one, biggest, fr...|(103999,[0,1,2,3,...|\n",
      "|i just finished a...| test|  1702_7.txt|      pos|[i, just, finishe...|[finished, double...|(103999,[0,1,2,4,...|\n",
      "|most of chaplin s...| test|  1499_9.txt|      pos|[most, of, chapli...|[chaplin, famous,...|(103999,[1,6,8,9,...|\n",
      "|this dvd set is t...| test| 12222_7.txt|      pos|[this, dvd, set, ...|[dvd, set, comple...|(103999,[2,3,4,5,...|\n",
      "|hard justice is a...| test| 2157_10.txt|      pos|[hard, justice, i...|[hard, justice, e...|(103999,[0,1,2,3,...|\n",
      "|dan finnerty and ...| test|12024_10.txt|      pos|[dan, finnerty, a...|[dan, finnerty, d...|(103999,[4,14,15,...|\n",
      "|ok well no one in...| test| 1876_10.txt|      pos|[ok, well, no, on...|[ok, well, one, r...|(103999,[0,2,10,2...|\n",
      "|the ali g show wa...| test|  3493_9.txt|      pos|[the, ali, g, sho...|[ali, g, show, re...|(103999,[0,2,3,4,...|\n",
      "|in this film the ...| test| 10686_7.txt|      pos|[in, this, film, ...|[film, astronauts...|(103999,[0,1,2,4,...|\n",
      "|i just saw eagle ...| test| 10929_7.txt|      pos|[i, just, saw, ea...|[saw, eagle, wing...|(103999,[0,7,8,18...|\n",
      "|a gang of bandits...| test|  3563_8.txt|      pos|[a, gang, of, ban...|[gang, bandits, l...|(103999,[4,12,52,...|\n",
      "|there has been a ...| test| 12159_8.txt|      pos|[there, has, been...|[political, docum...|(103999,[1,2,3,8,...|\n",
      "|this is a cut abo...| test|10083_10.txt|      pos|[this, is, a, cut...|[cut, movies, gen...|(103999,[1,5,7,8,...|\n",
      "|used to watch thi...| test| 4690_10.txt|      pos|[used, to, watch,...|[used, watch, lit...|(103999,[4,6,11,1...|\n",
      "|for those of you ...| test| 10752_7.txt|      pos|[for, those, of, ...|[looking, crazy, ...|(103999,[0,1,2,3,...|\n",
      "|i think the film ...| test|10282_10.txt|      pos|[i, think, the, f...|[think, film, mak...|(103999,[1,2,16,2...|\n",
      "+--------------------+-----+------------+---------+--------------------+--------------------+--------------------+\n",
      "only showing top 20 rows\n",
      "\n"
     ]
    }
   ],
   "source": [
    "count_vectorized.show()"
   ]
  },
  {
   "cell_type": "markdown",
   "metadata": {},
   "source": [
    "SparkVector represents a vector of 103999, that means in the dataset (corpus) there are 103999 unique terms. Per document, only a few will be present. Find density of each count_vectors."
   ]
  },
  {
   "cell_type": "code",
   "execution_count": 30,
   "metadata": {},
   "outputs": [
    {
     "name": "stdout",
     "output_type": "stream",
     "text": [
      "+--------------------+\n",
      "|             density|\n",
      "+--------------------+\n",
      "|9.134703218300176E-4|\n",
      "|8.077000740391734E-4|\n",
      "|0.001192319156914...|\n",
      "|6.634679179607497E-4|\n",
      "|0.002269252588967...|\n",
      "|0.001115395340339811|\n",
      "| 8.75008413542438E-4|\n",
      "|0.003375032452235...|\n",
      "|0.001173088202771...|\n",
      "|5.961595784574851E-4|\n",
      "|5.576976701699055E-4|\n",
      "|7.211607803921192E-4|\n",
      "|9.038548447581227E-4|\n",
      "|2.115404955816883E-4|\n",
      "|0.001500014423215...|\n",
      "|0.001961557322666564|\n",
      "|8.461619823267531E-4|\n",
      "|5.192357618823258E-4|\n",
      "|0.001451937037856...|\n",
      "| 2.50002403869268E-4|\n",
      "+--------------------+\n",
      "only showing top 20 rows\n",
      "\n"
     ]
    }
   ],
   "source": [
    "vocab_len = len(count_vectorizer_model.vocabulary)\n",
    "spark.udf.register(\"density\", lambda r: r.numNonzeros() / vocab_len, DoubleType())\n",
    "count_vectorized.select(expr(\"density(count_vectors) density\")).show()"
   ]
  },
  {
   "cell_type": "markdown",
   "metadata": {},
   "source": [
    "Density report shows, the count_vectors has very low density which illustrate the benefit of the choice of DenseVector for this column.\n",
    "\n",
    "Now, calculate tfidf for the document"
   ]
  },
  {
   "cell_type": "code",
   "execution_count": 31,
   "metadata": {
    "collapsed": true
   },
   "outputs": [],
   "source": [
    "idf = IDF(inputCol=\"count_vectors\", outputCol=\"features\")\n",
    "idf_model = idf.fit(count_vectorized)\n",
    "idf_data = idf_model.transform(count_vectorized)"
   ]
  },
  {
   "cell_type": "code",
   "execution_count": 32,
   "metadata": {},
   "outputs": [
    {
     "data": {
      "text/plain": [
       "SparseVector(103999, {0: 0.9845, 2: 1.1288, 3: 0.7696, 4: 0.9676, 5: 2.119, 16: 1.3666, 17: 1.3774, 25: 1.6553, 26: 1.698, 33: 3.4157, 63: 4.0136, 65: 1.9844, 67: 1.986, 70: 1.9881, 79: 2.2231, 95: 2.1487, 108: 4.8333, 110: 2.268, 116: 2.2797, 136: 4.8495, 141: 2.4541, 147: 4.7409, 152: 2.4588, 156: 2.548, 179: 10.5905, 182: 5.1155, 186: 5.1016, 192: 2.6086, 204: 2.6527, 214: 2.7536, 225: 2.7561, 237: 2.8205, 252: 5.9661, 274: 8.5544, 278: 2.886, 291: 2.9114, 292: 2.8914, 295: 2.8661, 299: 11.7681, 300: 2.9019, 316: 2.9565, 334: 3.087, 341: 6.1898, 350: 3.1981, 365: 3.0692, 388: 3.1181, 390: 3.163, 392: 3.1531, 431: 3.2075, 452: 6.584, 509: 3.2985, 512: 3.4489, 517: 3.345, 520: 3.4427, 521: 3.3726, 579: 10.8919, 603: 3.6707, 606: 3.4848, 626: 3.5173, 668: 3.6321, 677: 3.5699, 714: 3.6489, 791: 3.8633, 834: 3.8222, 835: 3.8059, 851: 3.7775, 858: 3.8122, 927: 3.8874, 1022: 3.9987, 1067: 4.096, 1071: 4.1839, 1081: 4.2773, 1107: 4.0479, 1129: 4.2904, 1134: 4.1154, 1172: 4.1997, 1191: 4.2227, 1194: 4.4777, 1212: 4.1997, 1264: 4.2336, 1266: 4.1825, 1409: 4.326, 1415: 4.545, 1441: 4.3245, 1497: 4.6072, 1693: 4.7353, 1773: 4.6315, 2057: 5.0147, 2071: 37.2584, 2079: 4.756, 2135: 4.7654, 2155: 4.763, 2310: 4.877, 2327: 5.1499, 2341: 5.0268, 2486: 4.9505, 2663: 5.356, 2721: 5.6158, 2731: 5.0672, 3049: 5.2214, 3498: 10.7634, 3550: 5.7699, 3559: 5.6268, 3696: 5.5066, 3795: 10.9549, 3872: 5.638, 4152: 54.4997, 4182: 12.3317, 4308: 5.8998, 4594: 5.6899, 4712: 30.6883, 4838: 5.7699, 4944: 5.8025, 5045: 6.0576, 5056: 5.864, 5210: 5.8362, 5697: 5.9446, 5831: 6.0158, 5872: 5.9995, 5880: 6.0576, 6251: 6.0924, 6581: 6.1754, 6778: 6.2047, 6844: 6.2247, 7431: 6.4131, 7662: 6.5023, 7827: 6.7089, 8945: 14.6466, 9229: 13.9823, 10106: 6.7423, 10728: 6.8308, 11525: 7.0131, 11785: 6.9912, 12658: 7.0821, 12957: 7.1562, 16400: 7.5617, 16850: 7.6009, 17165: 7.6009, 18206: 7.9866, 19325: 7.7753, 28742: 8.5172, 29179: 8.8739, 34007: 18.0561, 37635: 9.028, 57722: 20.2533, 60787: 9.7212, 61867: 9.7212, 89086: 10.1267})"
      ]
     },
     "execution_count": 32,
     "metadata": {},
     "output_type": "execute_result"
    }
   ],
   "source": [
    "idf_data.sample(False, 0.001, 1).first().features"
   ]
  },
  {
   "cell_type": "code",
   "execution_count": 33,
   "metadata": {},
   "outputs": [
    {
     "name": "stdout",
     "output_type": "stream",
     "text": [
      "root\n",
      " |-- content: string (nullable = true)\n",
      " |-- label: string (nullable = true)\n",
      " |-- name: string (nullable = true)\n",
      " |-- sentiment: string (nullable = true)\n",
      " |-- terms: array (nullable = true)\n",
      " |    |-- element: string (containsNull = true)\n",
      " |-- filtered: array (nullable = true)\n",
      " |    |-- element: string (containsNull = true)\n",
      " |-- count_vectors: vector (nullable = true)\n",
      " |-- features: vector (nullable = true)\n",
      "\n"
     ]
    }
   ],
   "source": [
    "idf_data.printSchema()"
   ]
  },
  {
   "cell_type": "markdown",
   "metadata": {},
   "source": [
    "\n",
    "Apply StringIndexer to conver the sentiment column from String type to number type - this is prerequisit to apply the LogisticRegression algorithm."
   ]
  },
  {
   "cell_type": "code",
   "execution_count": 35,
   "metadata": {
    "collapsed": true
   },
   "outputs": [],
   "source": [
    "from pyspark.ml.feature import StringIndexer"
   ]
  },
  {
   "cell_type": "code",
   "execution_count": 36,
   "metadata": {
    "collapsed": true
   },
   "outputs": [],
   "source": [
    "string_indexer = StringIndexer(inputCol=\"sentiment\", outputCol=\"sentiment_idx\")\n",
    "string_indexer_model = string_indexer.fit(idf_data)\n",
    "label_encoded = string_indexer_model.transform(idf_data)"
   ]
  },
  {
   "cell_type": "code",
   "execution_count": 37,
   "metadata": {},
   "outputs": [
    {
     "name": "stdout",
     "output_type": "stream",
     "text": [
      "+---------+-------------+\n",
      "|sentiment|sentiment_idx|\n",
      "+---------+-------------+\n",
      "|      pos|          1.0|\n",
      "|      pos|          1.0|\n",
      "|      pos|          1.0|\n",
      "|      pos|          1.0|\n",
      "|      pos|          1.0|\n",
      "|      pos|          1.0|\n",
      "|      pos|          1.0|\n",
      "|      pos|          1.0|\n",
      "|      pos|          1.0|\n",
      "|      pos|          1.0|\n",
      "|      pos|          1.0|\n",
      "|      pos|          1.0|\n",
      "|      pos|          1.0|\n",
      "|      pos|          1.0|\n",
      "|      pos|          1.0|\n",
      "|      pos|          1.0|\n",
      "|      pos|          1.0|\n",
      "|      pos|          1.0|\n",
      "|      pos|          1.0|\n",
      "|      pos|          1.0|\n",
      "+---------+-------------+\n",
      "only showing top 20 rows\n",
      "\n"
     ]
    }
   ],
   "source": [
    "label_encoded.select(\"sentiment\", \"sentiment_idx\").show()"
   ]
  },
  {
   "cell_type": "markdown",
   "metadata": {},
   "source": [
    "Split the data into traininf and testing groups with 70/30 ratio. Cache the dataframe so that training runs faster."
   ]
  },
  {
   "cell_type": "code",
   "execution_count": 39,
   "metadata": {},
   "outputs": [
    {
     "data": {
      "text/plain": [
       "DataFrame[content: string, label: string, name: string, sentiment: string, terms: array<string>, filtered: array<string>, count_vectors: vector, features: vector, sentiment_idx: double]"
      ]
     },
     "execution_count": 39,
     "metadata": {},
     "output_type": "execute_result"
    }
   ],
   "source": [
    "training, testing = label_encoded.randomSplit(weights=[0.7, 0.3], seed=1)\n",
    "training.cache()\n",
    "testing.cache()"
   ]
  },
  {
   "cell_type": "markdown",
   "metadata": {},
   "source": [
    "Verify that the StringIndex has done the expected job and training and testing data maintain the ratio of positive and negative records as in the whole dataset."
   ]
  },
  {
   "cell_type": "code",
   "execution_count": 40,
   "metadata": {},
   "outputs": [
    {
     "name": "stdout",
     "output_type": "stream",
     "text": [
      "+-------------+---------+-----+\n",
      "|sentiment_idx|sentiment|count|\n",
      "+-------------+---------+-----+\n",
      "|          1.0|      pos|17539|\n",
      "|          0.0|      neg|17517|\n",
      "+-------------+---------+-----+\n",
      "\n"
     ]
    }
   ],
   "source": [
    "training.groupBy(\"sentiment_idx\", \"sentiment\").count().show()"
   ]
  },
  {
   "cell_type": "code",
   "execution_count": 41,
   "metadata": {},
   "outputs": [
    {
     "name": "stdout",
     "output_type": "stream",
     "text": [
      "+-------------+---------+-----+\n",
      "|sentiment_idx|sentiment|count|\n",
      "+-------------+---------+-----+\n",
      "|          1.0|      pos| 7461|\n",
      "|          0.0|      neg| 7483|\n",
      "+-------------+---------+-----+\n",
      "\n"
     ]
    }
   ],
   "source": [
    "testing.groupBy(\"sentiment_idx\", \"sentiment\").count().show()"
   ]
  },
  {
   "cell_type": "markdown",
   "metadata": {},
   "source": [
    "Apply LogisticRegression classifier"
   ]
  },
  {
   "cell_type": "code",
   "execution_count": 42,
   "metadata": {
    "collapsed": true
   },
   "outputs": [],
   "source": [
    "from pyspark.ml.classification import LogisticRegression"
   ]
  },
  {
   "cell_type": "code",
   "execution_count": 43,
   "metadata": {
    "collapsed": true
   },
   "outputs": [],
   "source": [
    "\n",
    "lr = LogisticRegression(maxIter=10000, regParam=0.1, elasticNetParam=0.0, \n",
    "                        featuresCol=\"features\", labelCol=\"sentiment_idx\")"
   ]
  },
  {
   "cell_type": "markdown",
   "metadata": {},
   "source": [
    "Show the parameters that the LogisticRegression classifier takes."
   ]
  },
  {
   "cell_type": "code",
   "execution_count": 44,
   "metadata": {},
   "outputs": [
    {
     "name": "stdout",
     "output_type": "stream",
     "text": [
      "aggregationDepth: suggested depth for treeAggregate (>= 2). (default: 2)\n",
      "elasticNetParam: the ElasticNet mixing parameter, in range [0, 1]. For alpha = 0, the penalty is an L2 penalty. For alpha = 1, it is an L1 penalty. (default: 0.0, current: 0.0)\n",
      "family: The name of family which is a description of the label distribution to be used in the model. Supported options: auto, binomial, multinomial (default: auto)\n",
      "featuresCol: features column name. (default: features, current: features)\n",
      "fitIntercept: whether to fit an intercept term. (default: True)\n",
      "labelCol: label column name. (default: label, current: sentiment_idx)\n",
      "lowerBoundsOnCoefficients: The lower bounds on coefficients if fitting under bound constrained optimization. The bound matrix must be compatible with the shape (1, number of features) for binomial regression, or (number of classes, number of features) for multinomial regression. (undefined)\n",
      "lowerBoundsOnIntercepts: The lower bounds on intercepts if fitting under bound constrained optimization. The bounds vector size must beequal with 1 for binomial regression, or the number oflasses for multinomial regression. (undefined)\n",
      "maxIter: max number of iterations (>= 0). (default: 100, current: 10000)\n",
      "predictionCol: prediction column name. (default: prediction)\n",
      "probabilityCol: Column name for predicted class conditional probabilities. Note: Not all models output well-calibrated probability estimates! These probabilities should be treated as confidences, not precise probabilities. (default: probability)\n",
      "rawPredictionCol: raw prediction (a.k.a. confidence) column name. (default: rawPrediction)\n",
      "regParam: regularization parameter (>= 0). (default: 0.0, current: 0.1)\n",
      "standardization: whether to standardize the training features before fitting the model. (default: True)\n",
      "threshold: Threshold in binary classification prediction, in range [0, 1]. If threshold and thresholds are both set, they must match.e.g. if threshold is p, then thresholds must be equal to [1-p, p]. (default: 0.5)\n",
      "thresholds: Thresholds in multi-class classification to adjust the probability of predicting each class. Array must have length equal to the number of classes, with values > 0, excepting that at most one value may be 0. The class with largest value p/t is predicted, where p is the original probability of that class and t is the class's threshold. (undefined)\n",
      "tol: the convergence tolerance for iterative algorithms (>= 0). (default: 1e-06)\n",
      "upperBoundsOnCoefficients: The upper bounds on coefficients if fitting under bound constrained optimization. The bound matrix must be compatible with the shape (1, number of features) for binomial regression, or (number of classes, number of features) for multinomial regression. (undefined)\n",
      "upperBoundsOnIntercepts: The upper bounds on intercepts if fitting under bound constrained optimization. The bound vector size must be equal with 1 for binomial regression, or the number of classes for multinomial regression. (undefined)\n",
      "weightCol: weight column name. If this is not set or empty, we treat all instance weights as 1.0. (undefined)\n"
     ]
    }
   ],
   "source": [
    "print(lr.explainParams())"
   ]
  },
  {
   "cell_type": "code",
   "execution_count": 45,
   "metadata": {
    "collapsed": true
   },
   "outputs": [],
   "source": [
    "lr_model = lr.fit(training)"
   ]
  },
  {
   "cell_type": "code",
   "execution_count": 46,
   "metadata": {},
   "outputs": [
    {
     "data": {
      "text/plain": [
       "array([-2.12408368e-02,  4.24331169e-03,  9.04075972e-03, -1.10549950e-02,\n",
       "        3.15572008e-02,  5.97383812e-03, -5.41811859e-02,  9.48704943e-03,\n",
       "       -8.29936120e-04,  4.45092710e-02,  6.09165123e-02, -2.07895557e-02,\n",
       "       -1.01105448e-01, -1.38854245e-03,  8.75944124e-03,  1.12307270e-01,\n",
       "        3.66491186e-02,  1.59161945e-02, -1.51438903e-02, -3.44387586e-02,\n",
       "        4.85284636e-03, -4.95223684e-03, -6.67006765e-03,  2.56530952e-02,\n",
       "        9.38905604e-03, -4.85430486e-03,  9.52027628e-03,  7.46014994e-07,\n",
       "        1.35883512e-02,  1.98328265e-02,  4.80577752e-02, -1.62597192e-03,\n",
       "       -5.23760256e-02,  2.47350347e-02, -5.35497047e-02,  5.22112043e-03,\n",
       "        8.12680871e-02,  2.50557977e-03,  1.34682961e-02, -1.30119447e-02,\n",
       "        1.04567333e-02, -3.92096685e-02, -3.17837356e-04, -6.04435608e-03,\n",
       "        4.97924274e-02, -3.43252126e-03, -1.18994543e-02, -3.15143995e-03,\n",
       "       -1.41177029e-02, -1.95237924e-02,  2.75885259e-03,  9.52265266e-03,\n",
       "        1.76776029e-02, -3.87249898e-02, -2.83464429e-02, -1.98566636e-02,\n",
       "       -1.75932878e-02, -1.96809320e-02, -2.71449809e-02, -3.28952307e-02,\n",
       "        2.55509588e-02,  4.64381377e-03,  1.43063648e-02, -5.40747074e-03,\n",
       "       -1.07666183e-02, -2.16535734e-03,  1.81082901e-02, -2.53084679e-02,\n",
       "       -7.39949003e-02,  2.90041410e-02, -7.76307552e-03,  1.96501211e-02,\n",
       "       -1.13284980e-02,  5.96104385e-03,  2.40950858e-02,  5.88433120e-03,\n",
       "       -2.85955956e-03,  2.42384887e-02,  1.01130691e-02,  1.28966208e-02,\n",
       "        8.41387033e-03, -1.18600046e-02,  2.12936145e-02, -1.47586482e-02,\n",
       "       -6.02157535e-03, -2.49818772e-03, -1.70318961e-02,  1.43760764e-02,\n",
       "        6.42295140e-03, -1.33334714e-02, -4.34337757e-03, -1.48538240e-03,\n",
       "        1.43364856e-02, -6.90151249e-03, -2.00182340e-02, -4.67380942e-03,\n",
       "       -5.52759415e-03,  1.80201385e-02,  1.00800207e-02,  1.43299701e-02])"
      ]
     },
     "execution_count": 46,
     "metadata": {},
     "output_type": "execute_result"
    }
   ],
   "source": [
    "lr_model.coefficients[:100]"
   ]
  },
  {
   "cell_type": "code",
   "execution_count": 48,
   "metadata": {
    "collapsed": true
   },
   "outputs": [],
   "source": [
    "training_summary = lr_model.summary"
   ]
  },
  {
   "cell_type": "code",
   "execution_count": 50,
   "metadata": {
    "collapsed": true
   },
   "outputs": [],
   "source": [
    "import pandas as pd\n",
    "import matplotlib.pyplot as plt\n",
    "\n",
    "%matplotlib inline"
   ]
  },
  {
   "cell_type": "code",
   "execution_count": 51,
   "metadata": {},
   "outputs": [
    {
     "data": {
      "text/plain": [
       "Text(0,0.5,'Cost')"
      ]
     },
     "execution_count": 51,
     "metadata": {},
     "output_type": "execute_result"
    },
    {
     "data": {
      "image/png": "[encoded data removed]",
      "text/plain": [
       "<matplotlib.figure.Figure at 0x27ca813a390>"
      ]
     },
     "metadata": {},
     "output_type": "display_data"
    }
   ],
   "source": [
    "pd.Series(training_summary.objectiveHistory).plot()\n",
    "plt.xlabel(\"Iteration\")\n",
    "plt.ylabel(\"Cost\")"
   ]
  },
  {
   "cell_type": "code",
   "execution_count": 53,
   "metadata": {},
   "outputs": [
    {
     "data": {
      "text/plain": [
       "0.9998517937644785"
      ]
     },
     "execution_count": 53,
     "metadata": {},
     "output_type": "execute_result"
    }
   ],
   "source": [
    "training_summary.areaUnderROC"
   ]
  },
  {
   "cell_type": "code",
   "execution_count": null,
   "metadata": {
    "collapsed": true
   },
   "outputs": [],
   "source": [
    "\n",
    "predictions = lr_model.transform(testing).withColumn(\"match\", expr(\"prediction == sentiment_idx\"))"
   ]
  }
 ],
 "metadata": {
  "kernelspec": {
   "display_name": "Python 3",
   "language": "python",
   "name": "python3"
  },
  "language_info": {
   "codemirror_mode": {
    "name": "ipython",
    "version": 3
   },
   "file_extension": ".py",
   "mimetype": "text/x-python",
   "name": "python",
   "nbconvert_exporter": "python",
   "pygments_lexer": "ipython3",
   "version": "3.6.3"
  }
 },
 "nbformat": 4,
 "nbformat_minor": 2
}
